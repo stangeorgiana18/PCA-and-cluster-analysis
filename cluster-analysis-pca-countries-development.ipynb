{
 "cells": [
  {
   "cell_type": "markdown",
   "id": "b66ae156",
   "metadata": {
    "_cell_guid": "b1076dfc-b9ad-4769-8c92-a6c4dae69d19",
    "_uuid": "8f2839f25d086af736a60e9eeb907d3b93b6e0e5",
    "papermill": {
     "duration": 0.004785,
     "end_time": "2024-03-16T14:37:28.012860",
     "exception": false,
     "start_time": "2024-03-16T14:37:28.008075",
     "status": "completed"
    },
    "tags": []
   },
   "source": [
    "# Cluster analysis to determine countries in need of financial aid"
   ]
  },
  {
   "cell_type": "markdown",
   "id": "e612343d",
   "metadata": {
    "papermill": {
     "duration": 0.004031,
     "end_time": "2024-03-16T14:37:28.021550",
     "exception": false,
     "start_time": "2024-03-16T14:37:28.017519",
     "status": "completed"
    },
    "tags": []
   },
   "source": [
    "# Table of Contents\n",
    "\n",
    "* [About the dataset](#about)\n",
    "     * [Description](#description)\n",
    "     * [Data exploration](#exploration)\n",
    "* [Pre-processing](#processing)\n",
    "* [Data visualization](#visualization)\n",
    "* [Dimensionality reduction (PCA)](#pca)\n",
    "     * [Scaling](#scaling)\n",
    "     * [Normalization](#norm)\n",
    "* [K-means clustering](#ml)"
   ]
  },
  {
   "cell_type": "markdown",
   "id": "2963ffb3",
   "metadata": {
    "papermill": {
     "duration": 0.004004,
     "end_time": "2024-03-16T14:37:28.029906",
     "exception": false,
     "start_time": "2024-03-16T14:37:28.025902",
     "status": "completed"
    },
    "tags": []
   },
   "source": [
    "<a id=\"about\" ></a>\n",
    "# About dataset"
   ]
  },
  {
   "cell_type": "markdown",
   "id": "f8d55d4c",
   "metadata": {
    "papermill": {
     "duration": 0.003886,
     "end_time": "2024-03-16T14:37:28.037991",
     "exception": false,
     "start_time": "2024-03-16T14:37:28.034105",
     "status": "completed"
    },
    "tags": []
   },
   "source": [
    "We will cluster countries using socio, economic and health factors (based on numerical features) in order to allocate funding for country's development."
   ]
  },
  {
   "cell_type": "markdown",
   "id": "6e48b5ec",
   "metadata": {
    "papermill": {
     "duration": 0.003949,
     "end_time": "2024-03-16T14:37:28.046235",
     "exception": false,
     "start_time": "2024-03-16T14:37:28.042286",
     "status": "completed"
    },
    "tags": []
   },
   "source": [
    "<a id=\"description\" ></a>\n",
    "# Description"
   ]
  },
  {
   "cell_type": "markdown",
   "id": "0a1ca83d",
   "metadata": {
    "papermill": {
     "duration": 0.003954,
     "end_time": "2024-03-16T14:37:28.054382",
     "exception": false,
     "start_time": "2024-03-16T14:37:28.050428",
     "status": "completed"
    },
    "tags": []
   },
   "source": [
    "## Features\n",
    "- country : Name of the country\n",
    "- child_mort : Death of children under 5 years of age per 1000 live births\n",
    "- exports : Exports of goods and services per capita. Given as %age of the GDP per capita\n",
    "- health : Total health spending per capita. Given as %age of GDP per capita\n",
    "- imports : Imports of goods and services per capita. Given as %age of the GDP per capita\n",
    "- Income : Net income per person\n",
    "- Inflation : The measurement of the annual growth rate of the Total GDP\n",
    "- life_expec : The average number of years a new born child would live if the current mortality patterns are to rem...\n",
    "- total_fer : The number of children that would be born to each woman if the current age-fertility rates remain th...\n",
    "- gdpp : The GDP per capita. Calculated as the Total GDP divided by the total population."
   ]
  },
  {
   "cell_type": "markdown",
   "id": "d72e5c01",
   "metadata": {
    "papermill": {
     "duration": 0.00388,
     "end_time": "2024-03-16T14:37:28.062465",
     "exception": false,
     "start_time": "2024-03-16T14:37:28.058585",
     "status": "completed"
    },
    "tags": []
   },
   "source": [
    "<a id=\"exploration\" ></a>\n",
    "# Data exploration"
   ]
  },
  {
   "cell_type": "code",
   "execution_count": 1,
   "id": "e6724169",
   "metadata": {
    "execution": {
     "iopub.execute_input": "2024-03-16T14:37:28.073183Z",
     "iopub.status.busy": "2024-03-16T14:37:28.072696Z",
     "iopub.status.idle": "2024-03-16T14:37:30.957696Z",
     "shell.execute_reply": "2024-03-16T14:37:30.956485Z"
    },
    "papermill": {
     "duration": 2.89363,
     "end_time": "2024-03-16T14:37:30.960355",
     "exception": false,
     "start_time": "2024-03-16T14:37:28.066725",
     "status": "completed"
    },
    "tags": []
   },
   "outputs": [
    {
     "data": {
      "text/html": [
       "<div>\n",
       "<style scoped>\n",
       "    .dataframe tbody tr th:only-of-type {\n",
       "        vertical-align: middle;\n",
       "    }\n",
       "\n",
       "    .dataframe tbody tr th {\n",
       "        vertical-align: top;\n",
       "    }\n",
       "\n",
       "    .dataframe thead th {\n",
       "        text-align: right;\n",
       "    }\n",
       "</style>\n",
       "<table border=\"1\" class=\"dataframe\">\n",
       "  <thead>\n",
       "    <tr style=\"text-align: right;\">\n",
       "      <th></th>\n",
       "      <th>country</th>\n",
       "      <th>child_mort</th>\n",
       "      <th>exports</th>\n",
       "      <th>health</th>\n",
       "      <th>imports</th>\n",
       "      <th>income</th>\n",
       "      <th>inflation</th>\n",
       "      <th>life_expec</th>\n",
       "      <th>total_fer</th>\n",
       "      <th>gdpp</th>\n",
       "    </tr>\n",
       "  </thead>\n",
       "  <tbody>\n",
       "    <tr>\n",
       "      <th>0</th>\n",
       "      <td>Afghanistan</td>\n",
       "      <td>90.2</td>\n",
       "      <td>10.0</td>\n",
       "      <td>7.58</td>\n",
       "      <td>44.9</td>\n",
       "      <td>1610</td>\n",
       "      <td>9.44</td>\n",
       "      <td>56.2</td>\n",
       "      <td>5.82</td>\n",
       "      <td>553</td>\n",
       "    </tr>\n",
       "    <tr>\n",
       "      <th>1</th>\n",
       "      <td>Albania</td>\n",
       "      <td>16.6</td>\n",
       "      <td>28.0</td>\n",
       "      <td>6.55</td>\n",
       "      <td>48.6</td>\n",
       "      <td>9930</td>\n",
       "      <td>4.49</td>\n",
       "      <td>76.3</td>\n",
       "      <td>1.65</td>\n",
       "      <td>4090</td>\n",
       "    </tr>\n",
       "    <tr>\n",
       "      <th>2</th>\n",
       "      <td>Algeria</td>\n",
       "      <td>27.3</td>\n",
       "      <td>38.4</td>\n",
       "      <td>4.17</td>\n",
       "      <td>31.4</td>\n",
       "      <td>12900</td>\n",
       "      <td>16.10</td>\n",
       "      <td>76.5</td>\n",
       "      <td>2.89</td>\n",
       "      <td>4460</td>\n",
       "    </tr>\n",
       "    <tr>\n",
       "      <th>3</th>\n",
       "      <td>Angola</td>\n",
       "      <td>119.0</td>\n",
       "      <td>62.3</td>\n",
       "      <td>2.85</td>\n",
       "      <td>42.9</td>\n",
       "      <td>5900</td>\n",
       "      <td>22.40</td>\n",
       "      <td>60.1</td>\n",
       "      <td>6.16</td>\n",
       "      <td>3530</td>\n",
       "    </tr>\n",
       "    <tr>\n",
       "      <th>4</th>\n",
       "      <td>Antigua and Barbuda</td>\n",
       "      <td>10.3</td>\n",
       "      <td>45.5</td>\n",
       "      <td>6.03</td>\n",
       "      <td>58.9</td>\n",
       "      <td>19100</td>\n",
       "      <td>1.44</td>\n",
       "      <td>76.8</td>\n",
       "      <td>2.13</td>\n",
       "      <td>12200</td>\n",
       "    </tr>\n",
       "  </tbody>\n",
       "</table>\n",
       "</div>"
      ],
      "text/plain": [
       "               country  child_mort  exports  health  imports  income  \\\n",
       "0          Afghanistan        90.2     10.0    7.58     44.9    1610   \n",
       "1              Albania        16.6     28.0    6.55     48.6    9930   \n",
       "2              Algeria        27.3     38.4    4.17     31.4   12900   \n",
       "3               Angola       119.0     62.3    2.85     42.9    5900   \n",
       "4  Antigua and Barbuda        10.3     45.5    6.03     58.9   19100   \n",
       "\n",
       "   inflation  life_expec  total_fer   gdpp  \n",
       "0       9.44        56.2       5.82    553  \n",
       "1       4.49        76.3       1.65   4090  \n",
       "2      16.10        76.5       2.89   4460  \n",
       "3      22.40        60.1       6.16   3530  \n",
       "4       1.44        76.8       2.13  12200  "
      ]
     },
     "execution_count": 1,
     "metadata": {},
     "output_type": "execute_result"
    }
   ],
   "source": [
    "import pandas as pd\n",
    "import numpy as np\n",
    "import matplotlib.pyplot as plt\n",
    "import seaborn as sns\n",
    "\n",
    "countries = pd.read_csv('../input/unsupervised-learning-on-country-data/Country-data.csv')\n",
    "countries.head()"
   ]
  },
  {
   "cell_type": "markdown",
   "id": "2ba2b912",
   "metadata": {
    "papermill": {
     "duration": 0.004385,
     "end_time": "2024-03-16T14:37:30.969605",
     "exception": false,
     "start_time": "2024-03-16T14:37:30.965220",
     "status": "completed"
    },
    "tags": []
   },
   "source": [
    "<a id=\"processing\" ></a>\n",
    "# Pre-processing"
   ]
  },
  {
   "cell_type": "markdown",
   "id": "5a01a3b4",
   "metadata": {
    "papermill": {
     "duration": 0.004505,
     "end_time": "2024-03-16T14:37:30.979447",
     "exception": false,
     "start_time": "2024-03-16T14:37:30.974942",
     "status": "completed"
    },
    "tags": []
   },
   "source": [
    "<a id=\"visualization\" ></a>\n",
    "# Data visualization"
   ]
  },
  {
   "cell_type": "markdown",
   "id": "2eecc24a",
   "metadata": {
    "papermill": {
     "duration": 0.004688,
     "end_time": "2024-03-16T14:37:30.988832",
     "exception": false,
     "start_time": "2024-03-16T14:37:30.984144",
     "status": "completed"
    },
    "tags": []
   },
   "source": [
    "<a id=\"pca\" ></a>\n",
    "# Dimensionality reduction (PCA)"
   ]
  },
  {
   "cell_type": "markdown",
   "id": "a2980953",
   "metadata": {
    "papermill": {
     "duration": 0.004434,
     "end_time": "2024-03-16T14:37:30.998122",
     "exception": false,
     "start_time": "2024-03-16T14:37:30.993688",
     "status": "completed"
    },
    "tags": []
   },
   "source": [
    "<a id=\"scaling\" ></a>\n",
    "# Scaling"
   ]
  },
  {
   "cell_type": "markdown",
   "id": "e098802a",
   "metadata": {
    "papermill": {
     "duration": 0.004329,
     "end_time": "2024-03-16T14:37:31.007194",
     "exception": false,
     "start_time": "2024-03-16T14:37:31.002865",
     "status": "completed"
    },
    "tags": []
   },
   "source": [
    "<a id=\"norm\" ></a>\n",
    "# Normalization "
   ]
  },
  {
   "cell_type": "markdown",
   "id": "3e40eaca",
   "metadata": {
    "papermill": {
     "duration": 0.004299,
     "end_time": "2024-03-16T14:37:31.016210",
     "exception": false,
     "start_time": "2024-03-16T14:37:31.011911",
     "status": "completed"
    },
    "tags": []
   },
   "source": [
    "<a id=\"ml\" ></a>\n",
    "# K-means clustering"
   ]
  }
 ],
 "metadata": {
  "kaggle": {
   "accelerator": "none",
   "dataSources": [
    {
     "datasetId": 721951,
     "sourceId": 1255613,
     "sourceType": "datasetVersion"
    }
   ],
   "dockerImageVersionId": 30664,
   "isGpuEnabled": false,
   "isInternetEnabled": true,
   "language": "python",
   "sourceType": "notebook"
  },
  "kernelspec": {
   "display_name": "Python 3",
   "language": "python",
   "name": "python3"
  },
  "language_info": {
   "codemirror_mode": {
    "name": "ipython",
    "version": 3
   },
   "file_extension": ".py",
   "mimetype": "text/x-python",
   "name": "python",
   "nbconvert_exporter": "python",
   "pygments_lexer": "ipython3",
   "version": "3.10.13"
  },
  "papermill": {
   "default_parameters": {},
   "duration": 6.831281,
   "end_time": "2024-03-16T14:37:31.641839",
   "environment_variables": {},
   "exception": null,
   "input_path": "__notebook__.ipynb",
   "output_path": "__notebook__.ipynb",
   "parameters": {},
   "start_time": "2024-03-16T14:37:24.810558",
   "version": "2.5.0"
  }
 },
 "nbformat": 4,
 "nbformat_minor": 5
}
